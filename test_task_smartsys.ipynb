{
 "cells": [
  {
   "cell_type": "markdown",
   "id": "363082db",
   "metadata": {},
   "source": [
    "# Описание задачи  \n",
    "  \n",
    "Smartys - сервис анализа видеопотока с целью распознавания и идентификации лиц. Одной из прикладных задач является работа с распознаванием лиц, а также обработкой embedding-ов этих лиц.  \n",
    "В данном задании вам необходимо выбрать оптимальный порог меры близости embedding-ов для идентификации лиц одного человека.  \n",
    "  \n",
    "## Входные данные   \n",
    "В директории находится два файла: train.tsv (обучающая выборка), test.tsv (тестовая выборка) одного формата.Каждая строка файла содержит два embedding-а и признак того, принадлежат ли они одному человеку.  \n",
    "  \n",
    ">**В файле три колонки:**  \n",
    ">embedding_x - (string) конкатенация факторов embedding-а одного лица. (Объединенные через символ “,”).  \n",
    ">embedding_y - (string) конкатенация факторов embedding-а другого лица. (Объединенные через символ “,”).  \n",
    ">equal - бинарный признак того, что embedding_x и emedding_y принадлежат одному человеку.  \n",
    "  \n",
    "На обучающей выборке необходимо посчитать меру близости между embedding_x и embedding_y, на основании полученных близостей выбрать оптимальный threshold для распознавания embedding-ов одного человека (случай когда equal=1), на тестовой выборке провести валидацию подбора threshold-a.  \n",
    "  \n",
    "## Требования к выходным данным   \n",
    "В качестве результата необходим на выбор: Jupyter Notebook, python script содержащий ход решения задания, а также аргументацию подбора threshold-a.  \n",
    "  \n",
    ">**Требования к реализации:**  \n",
    ">Реализацию требуется произвести на Python 3.7  \n",
    ">Решение требуется загрузить на github репозиторий.  \n",
    ">Мера близости embedding-ов выбирается произвольно.   "
   ]
  },
  {
   "cell_type": "code",
   "execution_count": 303,
   "id": "87227c22",
   "metadata": {},
   "outputs": [],
   "source": [
    "import pandas as pd\n",
    "import numpy as np\n",
    "import face_recognition\n",
    "\n",
    "from sklearn.metrics import confusion_matrix, roc_auc_score\n",
    "import matplotlib.pyplot as plt\n",
    "%matplotlib inline\n",
    "\n",
    "import warnings\n",
    "warnings.filterwarnings('ignore')"
   ]
  },
  {
   "cell_type": "markdown",
   "id": "f6dacea0",
   "metadata": {},
   "source": [
    "***\n",
    "Импортируем данные.\n",
    "***"
   ]
  },
  {
   "cell_type": "code",
   "execution_count": 88,
   "id": "87b7ea82",
   "metadata": {},
   "outputs": [
    {
     "data": {
      "text/html": [
       "<div>\n",
       "<style scoped>\n",
       "    .dataframe tbody tr th:only-of-type {\n",
       "        vertical-align: middle;\n",
       "    }\n",
       "\n",
       "    .dataframe tbody tr th {\n",
       "        vertical-align: top;\n",
       "    }\n",
       "\n",
       "    .dataframe thead th {\n",
       "        text-align: right;\n",
       "    }\n",
       "</style>\n",
       "<table border=\"1\" class=\"dataframe\">\n",
       "  <thead>\n",
       "    <tr style=\"text-align: right;\">\n",
       "      <th></th>\n",
       "      <th>embedding_x</th>\n",
       "      <th>embedding_y</th>\n",
       "      <th>equal</th>\n",
       "    </tr>\n",
       "  </thead>\n",
       "  <tbody>\n",
       "    <tr>\n",
       "      <th>0</th>\n",
       "      <td>0.35198048,0.23884374,0.20589112,0.033522803,0...</td>\n",
       "      <td>0.124149986,0.14133812,0.16054663,0.38359353,0...</td>\n",
       "      <td>1</td>\n",
       "    </tr>\n",
       "    <tr>\n",
       "      <th>1</th>\n",
       "      <td>0.3492841,-0.18005244,0.46332806,-0.2122336,0....</td>\n",
       "      <td>-0.7460901,-0.21427503,-0.14653064,-0.22343078...</td>\n",
       "      <td>0</td>\n",
       "    </tr>\n",
       "    <tr>\n",
       "      <th>2</th>\n",
       "      <td>0.5642844,-0.08399645,-0.018092873,0.18461637,...</td>\n",
       "      <td>-0.30552676,0.10498648,0.40437204,0.25560898,-...</td>\n",
       "      <td>0</td>\n",
       "    </tr>\n",
       "    <tr>\n",
       "      <th>3</th>\n",
       "      <td>0.36132073,-0.20658037,0.4909494,0.12876663,0....</td>\n",
       "      <td>0.25936005,-0.15755327,0.4929783,-0.11315008,0...</td>\n",
       "      <td>1</td>\n",
       "    </tr>\n",
       "    <tr>\n",
       "      <th>4</th>\n",
       "      <td>-0.039740197,-0.11732757,-0.07907649,0.1649697...</td>\n",
       "      <td>0.26061502,-0.31516105,-0.04165541,0.16747917,...</td>\n",
       "      <td>1</td>\n",
       "    </tr>\n",
       "  </tbody>\n",
       "</table>\n",
       "</div>"
      ],
      "text/plain": [
       "                                         embedding_x  \\\n",
       "0  0.35198048,0.23884374,0.20589112,0.033522803,0...   \n",
       "1  0.3492841,-0.18005244,0.46332806,-0.2122336,0....   \n",
       "2  0.5642844,-0.08399645,-0.018092873,0.18461637,...   \n",
       "3  0.36132073,-0.20658037,0.4909494,0.12876663,0....   \n",
       "4  -0.039740197,-0.11732757,-0.07907649,0.1649697...   \n",
       "\n",
       "                                         embedding_y  equal  \n",
       "0  0.124149986,0.14133812,0.16054663,0.38359353,0...      1  \n",
       "1  -0.7460901,-0.21427503,-0.14653064,-0.22343078...      0  \n",
       "2  -0.30552676,0.10498648,0.40437204,0.25560898,-...      0  \n",
       "3  0.25936005,-0.15755327,0.4929783,-0.11315008,0...      1  \n",
       "4  0.26061502,-0.31516105,-0.04165541,0.16747917,...      1  "
      ]
     },
     "execution_count": 88,
     "metadata": {},
     "output_type": "execute_result"
    }
   ],
   "source": [
    "df = pd.read_csv('./train.tsv', sep='\\t')\n",
    "df.head()"
   ]
  },
  {
   "cell_type": "code",
   "execution_count": 349,
   "id": "291785ad",
   "metadata": {},
   "outputs": [
    {
     "data": {
      "text/plain": [
       "1    7837\n",
       "0    7748\n",
       "Name: equal, dtype: int64"
      ]
     },
     "execution_count": 349,
     "metadata": {},
     "output_type": "execute_result"
    }
   ],
   "source": [
    "df['equal'].value_counts()"
   ]
  },
  {
   "cell_type": "markdown",
   "id": "a0edd769",
   "metadata": {},
   "source": [
    "***\n",
    "Видим, что примерно половина лиц - действительно те лица, с которыми мы их будем сравнивать.  \n",
    "Самый простой вариант, проставить везде единицы, уже даст нам 50% аккуратности предсказаний, значит меньше 3500 true positive/true negative значений нас не устроят.     \n",
    "  \n",
    "Еще, нам не сказано, ошибка какого рода нам более важна:  \n",
    "- более точно определять совпадения (например, если ни разу не предсказать совпадение, мы не ошибемся в нем :));  \n",
    "- либо находить как можно больше истинных совпадений (то есть, ставим все значения как единица и не упускаем ни одного истинного совпадения);  \n",
    "\n",
    "Поэтому будем стараться достигать баланса в этих метриках.  \n",
    "***\n",
    "Сейчас данные у нас в виде строк. Для алгоритма, сравнивающего embedding'и лиц - это должны быть ndarray'и. Делаем пару преобразований.\n",
    "***"
   ]
  },
  {
   "cell_type": "code",
   "execution_count": 89,
   "id": "14bba9ea",
   "metadata": {},
   "outputs": [],
   "source": [
    "def transform_into_embedding(vector):\n",
    "    embedding = vector.split(',')\n",
    "    embedding = list(map(float, embedding))\n",
    "    embedding = np.array(embedding).reshape(1, 128)\n",
    "    return embedding"
   ]
  },
  {
   "cell_type": "code",
   "execution_count": 517,
   "id": "7dd28b75",
   "metadata": {},
   "outputs": [
    {
     "data": {
      "text/html": [
       "<div>\n",
       "<style scoped>\n",
       "    .dataframe tbody tr th:only-of-type {\n",
       "        vertical-align: middle;\n",
       "    }\n",
       "\n",
       "    .dataframe tbody tr th {\n",
       "        vertical-align: top;\n",
       "    }\n",
       "\n",
       "    .dataframe thead th {\n",
       "        text-align: right;\n",
       "    }\n",
       "</style>\n",
       "<table border=\"1\" class=\"dataframe\">\n",
       "  <thead>\n",
       "    <tr style=\"text-align: right;\">\n",
       "      <th></th>\n",
       "      <th>embedding_x</th>\n",
       "      <th>embedding_y</th>\n",
       "      <th>equal</th>\n",
       "    </tr>\n",
       "  </thead>\n",
       "  <tbody>\n",
       "    <tr>\n",
       "      <th>0</th>\n",
       "      <td>[[0.35198048, 0.23884374, 0.20589112, 0.033522...</td>\n",
       "      <td>[[0.124149986, 0.14133812, 0.16054663, 0.38359...</td>\n",
       "      <td>1</td>\n",
       "    </tr>\n",
       "    <tr>\n",
       "      <th>1</th>\n",
       "      <td>[[0.3492841, -0.18005244, 0.46332806, -0.21223...</td>\n",
       "      <td>[[-0.7460901, -0.21427503, -0.14653064, -0.223...</td>\n",
       "      <td>0</td>\n",
       "    </tr>\n",
       "    <tr>\n",
       "      <th>2</th>\n",
       "      <td>[[0.5642844, -0.08399645, -0.018092873, 0.1846...</td>\n",
       "      <td>[[-0.30552676, 0.10498648, 0.40437204, 0.25560...</td>\n",
       "      <td>0</td>\n",
       "    </tr>\n",
       "    <tr>\n",
       "      <th>3</th>\n",
       "      <td>[[0.36132073, -0.20658037, 0.4909494, 0.128766...</td>\n",
       "      <td>[[0.25936005, -0.15755327, 0.4929783, -0.11315...</td>\n",
       "      <td>1</td>\n",
       "    </tr>\n",
       "    <tr>\n",
       "      <th>4</th>\n",
       "      <td>[[-0.039740197, -0.11732757, -0.07907649, 0.16...</td>\n",
       "      <td>[[0.26061502, -0.31516105, -0.04165541, 0.1674...</td>\n",
       "      <td>1</td>\n",
       "    </tr>\n",
       "  </tbody>\n",
       "</table>\n",
       "</div>"
      ],
      "text/plain": [
       "                                         embedding_x  \\\n",
       "0  [[0.35198048, 0.23884374, 0.20589112, 0.033522...   \n",
       "1  [[0.3492841, -0.18005244, 0.46332806, -0.21223...   \n",
       "2  [[0.5642844, -0.08399645, -0.018092873, 0.1846...   \n",
       "3  [[0.36132073, -0.20658037, 0.4909494, 0.128766...   \n",
       "4  [[-0.039740197, -0.11732757, -0.07907649, 0.16...   \n",
       "\n",
       "                                         embedding_y  equal  \n",
       "0  [[0.124149986, 0.14133812, 0.16054663, 0.38359...      1  \n",
       "1  [[-0.7460901, -0.21427503, -0.14653064, -0.223...      0  \n",
       "2  [[-0.30552676, 0.10498648, 0.40437204, 0.25560...      0  \n",
       "3  [[0.25936005, -0.15755327, 0.4929783, -0.11315...      1  \n",
       "4  [[0.26061502, -0.31516105, -0.04165541, 0.1674...      1  "
      ]
     },
     "execution_count": 517,
     "metadata": {},
     "output_type": "execute_result"
    }
   ],
   "source": [
    "df_t = df.copy()\n",
    "df_t['embedding_x'] = pd.Series(map(transform_into_embedding, df['embedding_x']))\n",
    "df_t['embedding_y'] = pd.Series(map(transform_into_embedding, df['embedding_y']))\n",
    "df_t.head()"
   ]
  },
  {
   "cell_type": "markdown",
   "id": "4fdd9950",
   "metadata": {},
   "source": [
    "***\n",
    "Теперь я создам новую колонку в датафрейме, в которой будут списки c 10 бинарными значениями  \n",
    "Если лицо совпадает - ставится 1, если нет - 0.  \n",
    "  \n",
    "В списке 10 значений, потому что перебирается значение `tolerance`. Для начала я попробую значения от 0.1 до 1 включительно.  \n",
    "Первое значение в списке получено с `tolerance = 0.1`, последнее с `tolerance = 1`.\n",
    "***"
   ]
  },
  {
   "cell_type": "code",
   "execution_count": 518,
   "id": "34864cfc",
   "metadata": {},
   "outputs": [],
   "source": [
    "def evaluate_tolerance(embedding_x, embedding_y, min=0.1, max=1):\n",
    "    '''\n",
    "    Receives: two face embeddings\n",
    "    Calculates if the faces are similar with \n",
    "    '''\n",
    "    results = []\n",
    "    for n in np.round(np.linspace(min, max, 10), 3):\n",
    "        result = face_recognition.compare_faces(embedding_x, embedding_y, tolerance=n)\n",
    "        results.append(result[0])\n",
    "    return list(map(int, results))"
   ]
  },
  {
   "cell_type": "code",
   "execution_count": 519,
   "id": "794ae871",
   "metadata": {},
   "outputs": [
    {
     "name": "stdout",
     "output_type": "stream",
     "text": [
      "CPU times: user 2.36 s, sys: 74.4 ms, total: 2.43 s\n",
      "Wall time: 2.16 s\n"
     ]
    }
   ],
   "source": [
    "%%time\n",
    "df_t['tolerance_results'] = pd.Series(map(evaluate_tolerance, df_t['embedding_x'], df_t['embedding_y']))"
   ]
  },
  {
   "cell_type": "markdown",
   "id": "fe665682",
   "metadata": {},
   "source": [
    "***\n",
    "Я получил списки совпадения для каждой пары лиц. Теперь я хочу посмотреть метрики по разным значениям `tolerance`.  \n",
    "  \n",
    "Для этого мне нужно сделать вместо одной колонки в датафрейме (как есть сейчас) - ndarray (матрицу) и взять по отдельности каждую ее колонку, для замеров метрик.\n",
    "***"
   ]
  },
  {
   "cell_type": "code",
   "execution_count": 520,
   "id": "251d3581",
   "metadata": {},
   "outputs": [],
   "source": [
    "arr = np.stack(df_t['tolerance_results'].values)\n",
    "\n",
    "for i, tol in enumerate(np.arange(0.1, 1.1, 0.1)): \n",
    "    df_t[f'tolerance {tol:.3f}'] = arr[:,i]"
   ]
  },
  {
   "cell_type": "markdown",
   "id": "84bc128f",
   "metadata": {},
   "source": [
    "***\n",
    "Теперь наш датафрейм выглядит так:\n",
    "***"
   ]
  },
  {
   "cell_type": "code",
   "execution_count": 521,
   "id": "d1d8610d",
   "metadata": {},
   "outputs": [
    {
     "data": {
      "text/html": [
       "<div>\n",
       "<style scoped>\n",
       "    .dataframe tbody tr th:only-of-type {\n",
       "        vertical-align: middle;\n",
       "    }\n",
       "\n",
       "    .dataframe tbody tr th {\n",
       "        vertical-align: top;\n",
       "    }\n",
       "\n",
       "    .dataframe thead th {\n",
       "        text-align: right;\n",
       "    }\n",
       "</style>\n",
       "<table border=\"1\" class=\"dataframe\">\n",
       "  <thead>\n",
       "    <tr style=\"text-align: right;\">\n",
       "      <th></th>\n",
       "      <th>embedding_x</th>\n",
       "      <th>embedding_y</th>\n",
       "      <th>equal</th>\n",
       "      <th>tolerance_results</th>\n",
       "      <th>tolerance 0.100</th>\n",
       "      <th>tolerance 0.200</th>\n",
       "      <th>tolerance 0.300</th>\n",
       "      <th>tolerance 0.400</th>\n",
       "      <th>tolerance 0.500</th>\n",
       "      <th>tolerance 0.600</th>\n",
       "      <th>tolerance 0.700</th>\n",
       "      <th>tolerance 0.800</th>\n",
       "      <th>tolerance 0.900</th>\n",
       "      <th>tolerance 1.000</th>\n",
       "    </tr>\n",
       "  </thead>\n",
       "  <tbody>\n",
       "    <tr>\n",
       "      <th>0</th>\n",
       "      <td>[[0.35198048, 0.23884374, 0.20589112, 0.033522...</td>\n",
       "      <td>[[0.124149986, 0.14133812, 0.16054663, 0.38359...</td>\n",
       "      <td>1</td>\n",
       "      <td>[0, 0, 0, 0, 0, 0, 0, 0, 0, 1]</td>\n",
       "      <td>0</td>\n",
       "      <td>0</td>\n",
       "      <td>0</td>\n",
       "      <td>0</td>\n",
       "      <td>0</td>\n",
       "      <td>0</td>\n",
       "      <td>0</td>\n",
       "      <td>0</td>\n",
       "      <td>0</td>\n",
       "      <td>1</td>\n",
       "    </tr>\n",
       "    <tr>\n",
       "      <th>1</th>\n",
       "      <td>[[0.3492841, -0.18005244, 0.46332806, -0.21223...</td>\n",
       "      <td>[[-0.7460901, -0.21427503, -0.14653064, -0.223...</td>\n",
       "      <td>0</td>\n",
       "      <td>[0, 0, 0, 0, 0, 0, 0, 0, 0, 0]</td>\n",
       "      <td>0</td>\n",
       "      <td>0</td>\n",
       "      <td>0</td>\n",
       "      <td>0</td>\n",
       "      <td>0</td>\n",
       "      <td>0</td>\n",
       "      <td>0</td>\n",
       "      <td>0</td>\n",
       "      <td>0</td>\n",
       "      <td>0</td>\n",
       "    </tr>\n",
       "    <tr>\n",
       "      <th>2</th>\n",
       "      <td>[[0.5642844, -0.08399645, -0.018092873, 0.1846...</td>\n",
       "      <td>[[-0.30552676, 0.10498648, 0.40437204, 0.25560...</td>\n",
       "      <td>0</td>\n",
       "      <td>[0, 0, 0, 0, 0, 0, 0, 0, 0, 0]</td>\n",
       "      <td>0</td>\n",
       "      <td>0</td>\n",
       "      <td>0</td>\n",
       "      <td>0</td>\n",
       "      <td>0</td>\n",
       "      <td>0</td>\n",
       "      <td>0</td>\n",
       "      <td>0</td>\n",
       "      <td>0</td>\n",
       "      <td>0</td>\n",
       "    </tr>\n",
       "    <tr>\n",
       "      <th>3</th>\n",
       "      <td>[[0.36132073, -0.20658037, 0.4909494, 0.128766...</td>\n",
       "      <td>[[0.25936005, -0.15755327, 0.4929783, -0.11315...</td>\n",
       "      <td>1</td>\n",
       "      <td>[0, 0, 0, 0, 0, 0, 1, 1, 1, 1]</td>\n",
       "      <td>0</td>\n",
       "      <td>0</td>\n",
       "      <td>0</td>\n",
       "      <td>0</td>\n",
       "      <td>0</td>\n",
       "      <td>0</td>\n",
       "      <td>1</td>\n",
       "      <td>1</td>\n",
       "      <td>1</td>\n",
       "      <td>1</td>\n",
       "    </tr>\n",
       "    <tr>\n",
       "      <th>4</th>\n",
       "      <td>[[-0.039740197, -0.11732757, -0.07907649, 0.16...</td>\n",
       "      <td>[[0.26061502, -0.31516105, -0.04165541, 0.1674...</td>\n",
       "      <td>1</td>\n",
       "      <td>[0, 0, 0, 0, 0, 0, 0, 0, 0, 0]</td>\n",
       "      <td>0</td>\n",
       "      <td>0</td>\n",
       "      <td>0</td>\n",
       "      <td>0</td>\n",
       "      <td>0</td>\n",
       "      <td>0</td>\n",
       "      <td>0</td>\n",
       "      <td>0</td>\n",
       "      <td>0</td>\n",
       "      <td>0</td>\n",
       "    </tr>\n",
       "  </tbody>\n",
       "</table>\n",
       "</div>"
      ],
      "text/plain": [
       "                                         embedding_x  \\\n",
       "0  [[0.35198048, 0.23884374, 0.20589112, 0.033522...   \n",
       "1  [[0.3492841, -0.18005244, 0.46332806, -0.21223...   \n",
       "2  [[0.5642844, -0.08399645, -0.018092873, 0.1846...   \n",
       "3  [[0.36132073, -0.20658037, 0.4909494, 0.128766...   \n",
       "4  [[-0.039740197, -0.11732757, -0.07907649, 0.16...   \n",
       "\n",
       "                                         embedding_y  equal  \\\n",
       "0  [[0.124149986, 0.14133812, 0.16054663, 0.38359...      1   \n",
       "1  [[-0.7460901, -0.21427503, -0.14653064, -0.223...      0   \n",
       "2  [[-0.30552676, 0.10498648, 0.40437204, 0.25560...      0   \n",
       "3  [[0.25936005, -0.15755327, 0.4929783, -0.11315...      1   \n",
       "4  [[0.26061502, -0.31516105, -0.04165541, 0.1674...      1   \n",
       "\n",
       "                tolerance_results  tolerance 0.100  tolerance 0.200  \\\n",
       "0  [0, 0, 0, 0, 0, 0, 0, 0, 0, 1]                0                0   \n",
       "1  [0, 0, 0, 0, 0, 0, 0, 0, 0, 0]                0                0   \n",
       "2  [0, 0, 0, 0, 0, 0, 0, 0, 0, 0]                0                0   \n",
       "3  [0, 0, 0, 0, 0, 0, 1, 1, 1, 1]                0                0   \n",
       "4  [0, 0, 0, 0, 0, 0, 0, 0, 0, 0]                0                0   \n",
       "\n",
       "   tolerance 0.300  tolerance 0.400  tolerance 0.500  tolerance 0.600  \\\n",
       "0                0                0                0                0   \n",
       "1                0                0                0                0   \n",
       "2                0                0                0                0   \n",
       "3                0                0                0                0   \n",
       "4                0                0                0                0   \n",
       "\n",
       "   tolerance 0.700  tolerance 0.800  tolerance 0.900  tolerance 1.000  \n",
       "0                0                0                0                1  \n",
       "1                0                0                0                0  \n",
       "2                0                0                0                0  \n",
       "3                1                1                1                1  \n",
       "4                0                0                0                0  "
      ]
     },
     "execution_count": 521,
     "metadata": {},
     "output_type": "execute_result"
    }
   ],
   "source": [
    "df_t.head()"
   ]
  },
  {
   "cell_type": "markdown",
   "id": "313bf4be",
   "metadata": {},
   "source": [
    "***\n",
    "Создаю функцию для удобства подсчета метрик.\n",
    "***"
   ]
  },
  {
   "cell_type": "code",
   "execution_count": 522,
   "id": "34aae490",
   "metadata": {},
   "outputs": [],
   "source": [
    "def evaluate_metrics(df, min=0.1, max=1):\n",
    "    total_evaluation = [['tolerance coefficient', '(tn, fp, fn, tp)', 'precision', 'recall', 'roc_auc_score']]\n",
    "    for tol in np.round(np.linspace(min, max, 10), 3):\n",
    "        evaluation = [f'tolerance={tol:.3f}',]\n",
    "        tn, fp, fn, tp = confusion_matrix(df['equal'], df[f'tolerance {tol:.3f}']).ravel()\n",
    "        evaluation.append((tn, fp, fn, tp))\n",
    "        evaluation.append(tp / (tp + fp)) # precision\n",
    "        evaluation.append(tp / (tp + fn)) # recall\n",
    "        evaluation.append(roc_auc_score(df['equal'], df[f'tolerance {tol:.3f}'])) #roc_auc\n",
    "        total_evaluation.append(evaluation)\n",
    "    return total_evaluation"
   ]
  },
  {
   "cell_type": "code",
   "execution_count": 523,
   "id": "823a3374",
   "metadata": {},
   "outputs": [],
   "source": [
    "total_results = evaluate_metrics(df_t)"
   ]
  },
  {
   "cell_type": "markdown",
   "id": "1d872a75",
   "metadata": {},
   "source": [
    "***\n",
    "Графики результатов:\n",
    "***"
   ]
  },
  {
   "cell_type": "code",
   "execution_count": 552,
   "id": "0edae79b",
   "metadata": {
    "scrolled": false
   },
   "outputs": [],
   "source": [
    "def show_metrics_plot(results, min=0.1, max=1):\n",
    "    plt.figure(figsize=(16, 16))\n",
    "\n",
    "    x = np.round(np.linspace(min, max, 10), 3)\n",
    "\n",
    "    plt.subplot(221)\n",
    "    plt.plot(x, np.array(results)[1:,2])\n",
    "    plt.ylabel('precision')\n",
    "    plt.xlabel('tolerance coefficient')\n",
    "\n",
    "    plt.subplot(222)\n",
    "    plt.plot(x, np.array(results)[1:,3])\n",
    "    plt.ylabel('recall')\n",
    "    plt.xlabel('tolerance coefficient')\n",
    "\n",
    "    plt.subplot(223)\n",
    "    plt.plot(x, np.array(results)[1:,4])\n",
    "    plt.ylabel('roc_auc')\n",
    "    plt.xlabel('tolerance coefficient')\n",
    "\n",
    "    plt.show()"
   ]
  },
  {
   "cell_type": "code",
   "execution_count": 525,
   "id": "cd5a3e27",
   "metadata": {},
   "outputs": [
    {
     "data": {
      "image/png": "[encoded data removed]",
      "text/plain": [
       "<Figure size 1152x1152 with 3 Axes>"
      ]
     },
     "metadata": {
      "needs_background": "light"
     },
     "output_type": "display_data"
    }
   ],
   "source": [
    "show_metrics_plot(total_results)"
   ]
  },
  {
   "cell_type": "code",
   "execution_count": 526,
   "id": "75c0202a",
   "metadata": {},
   "outputs": [
    {
     "data": {
      "text/plain": [
       "array([['tolerance coefficient', '(tn, fp, fn, tp)'],\n",
       "       ['tolerance=0.100', (7748, 0, 7782, 55)],\n",
       "       ['tolerance=0.200', (7748, 0, 7780, 57)],\n",
       "       ['tolerance=0.300', (7748, 0, 7777, 60)],\n",
       "       ['tolerance=0.400', (7748, 0, 7751, 86)],\n",
       "       ['tolerance=0.500', (7748, 0, 7674, 163)],\n",
       "       ['tolerance=0.600', (7748, 0, 7447, 390)],\n",
       "       ['tolerance=0.700', (7748, 0, 6981, 856)],\n",
       "       ['tolerance=0.800', (7747, 1, 6125, 1712)],\n",
       "       ['tolerance=0.900', (7729, 19, 4852, 2985)],\n",
       "       ['tolerance=1.000', (7650, 98, 3383, 4454)]], dtype=object)"
      ]
     },
     "execution_count": 526,
     "metadata": {},
     "output_type": "execute_result"
    }
   ],
   "source": [
    "np.array(total_results)[:,:2]"
   ]
  },
  {
   "cell_type": "markdown",
   "id": "1e1cda6d",
   "metadata": {},
   "source": [
    "***\n",
    "По первым результатам видим, что `tolerance < 0.8` бесполезен, так как у нас отвратительный показатель `recall` (полнота).  \n",
    "  \n",
    "Так получается, потому что при низком `tolerance` алгоритм из 15 000 сравнений только 50 раз показывает нам совпадение в лицах (это можно увидеть на матрицах ошибок чуть выше, смотрим значение tp).  \n",
    "  \n",
    "Чем больше мы ставим параметр `tolerance`, тем больше совпадений модель начинает определять, и тем чаще она начинает в них ошибаться (это видно по увеличению кол-ва fp значений и увеличению tp значений).  \n",
    "  \n",
    "Однако с этими данными, алгоритм все равно ошибается очень редко, так что `tolerance = 1`, выглядит как хороший вариант.\n",
    "***\n",
    "Не останавливаемся на достигнутом, пробуем значения `tolerance > 1`, повторяя все шаги выше.\n",
    "***"
   ]
  },
  {
   "cell_type": "code",
   "execution_count": 527,
   "id": "a2e66005",
   "metadata": {},
   "outputs": [
    {
     "name": "stdout",
     "output_type": "stream",
     "text": [
      "CPU times: user 2.47 s, sys: 89.3 ms, total: 2.56 s\n",
      "Wall time: 2.16 s\n"
     ]
    }
   ],
   "source": [
    "%%time\n",
    "df_t['tolerance_results_new'] = \\\n",
    "pd.Series(map(lambda x, y: evaluate_tolerance(x, y, min=1.1, max=2.1), *[df_t['embedding_x'], df_t['embedding_y']]))"
   ]
  },
  {
   "cell_type": "code",
   "execution_count": 528,
   "id": "8066aa2c",
   "metadata": {},
   "outputs": [],
   "source": [
    "arr = np.stack(df_t['tolerance_results_new'].values)\n",
    "\n",
    "for i, tol in enumerate(np.round(np.linspace(1.1, 2, 10), 1)): \n",
    "    df_t[f'tolerance {tol:.3f}'] = arr[:,i]"
   ]
  },
  {
   "cell_type": "code",
   "execution_count": 532,
   "id": "ef694981",
   "metadata": {},
   "outputs": [
    {
     "data": {
      "text/html": [
       "<div>\n",
       "<style scoped>\n",
       "    .dataframe tbody tr th:only-of-type {\n",
       "        vertical-align: middle;\n",
       "    }\n",
       "\n",
       "    .dataframe tbody tr th {\n",
       "        vertical-align: top;\n",
       "    }\n",
       "\n",
       "    .dataframe thead th {\n",
       "        text-align: right;\n",
       "    }\n",
       "</style>\n",
       "<table border=\"1\" class=\"dataframe\">\n",
       "  <thead>\n",
       "    <tr style=\"text-align: right;\">\n",
       "      <th></th>\n",
       "      <th>equal</th>\n",
       "      <th>tolerance 1.100</th>\n",
       "      <th>tolerance 1.200</th>\n",
       "      <th>tolerance 1.300</th>\n",
       "      <th>tolerance 1.400</th>\n",
       "      <th>tolerance 1.500</th>\n",
       "      <th>tolerance 1.600</th>\n",
       "      <th>tolerance 1.700</th>\n",
       "      <th>tolerance 1.800</th>\n",
       "      <th>tolerance 1.900</th>\n",
       "      <th>tolerance 2.000</th>\n",
       "    </tr>\n",
       "  </thead>\n",
       "  <tbody>\n",
       "    <tr>\n",
       "      <th>0</th>\n",
       "      <td>1</td>\n",
       "      <td>1</td>\n",
       "      <td>1</td>\n",
       "      <td>1</td>\n",
       "      <td>1</td>\n",
       "      <td>1</td>\n",
       "      <td>1</td>\n",
       "      <td>1</td>\n",
       "      <td>1</td>\n",
       "      <td>1</td>\n",
       "      <td>1</td>\n",
       "    </tr>\n",
       "    <tr>\n",
       "      <th>1</th>\n",
       "      <td>0</td>\n",
       "      <td>0</td>\n",
       "      <td>0</td>\n",
       "      <td>0</td>\n",
       "      <td>0</td>\n",
       "      <td>0</td>\n",
       "      <td>1</td>\n",
       "      <td>1</td>\n",
       "      <td>1</td>\n",
       "      <td>1</td>\n",
       "      <td>1</td>\n",
       "    </tr>\n",
       "    <tr>\n",
       "      <th>2</th>\n",
       "      <td>0</td>\n",
       "      <td>0</td>\n",
       "      <td>0</td>\n",
       "      <td>0</td>\n",
       "      <td>0</td>\n",
       "      <td>0</td>\n",
       "      <td>1</td>\n",
       "      <td>1</td>\n",
       "      <td>1</td>\n",
       "      <td>1</td>\n",
       "      <td>1</td>\n",
       "    </tr>\n",
       "    <tr>\n",
       "      <th>3</th>\n",
       "      <td>1</td>\n",
       "      <td>1</td>\n",
       "      <td>1</td>\n",
       "      <td>1</td>\n",
       "      <td>1</td>\n",
       "      <td>1</td>\n",
       "      <td>1</td>\n",
       "      <td>1</td>\n",
       "      <td>1</td>\n",
       "      <td>1</td>\n",
       "      <td>1</td>\n",
       "    </tr>\n",
       "    <tr>\n",
       "      <th>4</th>\n",
       "      <td>1</td>\n",
       "      <td>1</td>\n",
       "      <td>1</td>\n",
       "      <td>1</td>\n",
       "      <td>1</td>\n",
       "      <td>1</td>\n",
       "      <td>1</td>\n",
       "      <td>1</td>\n",
       "      <td>1</td>\n",
       "      <td>1</td>\n",
       "      <td>1</td>\n",
       "    </tr>\n",
       "  </tbody>\n",
       "</table>\n",
       "</div>"
      ],
      "text/plain": [
       "   equal  tolerance 1.100  tolerance 1.200  tolerance 1.300  tolerance 1.400  \\\n",
       "0      1                1                1                1                1   \n",
       "1      0                0                0                0                0   \n",
       "2      0                0                0                0                0   \n",
       "3      1                1                1                1                1   \n",
       "4      1                1                1                1                1   \n",
       "\n",
       "   tolerance 1.500  tolerance 1.600  tolerance 1.700  tolerance 1.800  \\\n",
       "0                1                1                1                1   \n",
       "1                0                1                1                1   \n",
       "2                0                1                1                1   \n",
       "3                1                1                1                1   \n",
       "4                1                1                1                1   \n",
       "\n",
       "   tolerance 1.900  tolerance 2.000  \n",
       "0                1                1  \n",
       "1                1                1  \n",
       "2                1                1  \n",
       "3                1                1  \n",
       "4                1                1  "
      ]
     },
     "execution_count": 532,
     "metadata": {},
     "output_type": "execute_result"
    }
   ],
   "source": [
    "df_t[['equal', 'tolerance 1.100',\n",
    "      'tolerance 1.200', 'tolerance 1.300', 'tolerance 1.400',\n",
    "      'tolerance 1.500', 'tolerance 1.600', 'tolerance 1.700',\n",
    "      'tolerance 1.800', 'tolerance 1.900', 'tolerance 2.000']].head()"
   ]
  },
  {
   "cell_type": "code",
   "execution_count": 533,
   "id": "fd0ba686",
   "metadata": {},
   "outputs": [],
   "source": [
    "total_results_new = evaluate_metrics(df_t, min=1.1, max=2)"
   ]
  },
  {
   "cell_type": "code",
   "execution_count": 534,
   "id": "6d4a4f91",
   "metadata": {},
   "outputs": [
    {
     "data": {
      "image/png": "[encoded data removed]",
      "text/plain": [
       "<Figure size 1152x1152 with 3 Axes>"
      ]
     },
     "metadata": {
      "needs_background": "light"
     },
     "output_type": "display_data"
    }
   ],
   "source": [
    "show_metrics_plot(total_results_new, min=1.1, max=2)"
   ]
  },
  {
   "cell_type": "code",
   "execution_count": 535,
   "id": "8e9827dc",
   "metadata": {},
   "outputs": [
    {
     "data": {
      "text/plain": [
       "array([['tolerance coefficient', '(tn, fp, fn, tp)'],\n",
       "       ['tolerance=1.100', (7413, 335, 1972, 5865)],\n",
       "       ['tolerance=1.200', (6724, 1024, 815, 7022)],\n",
       "       ['tolerance=1.300', (5487, 2261, 239, 7598)],\n",
       "       ['tolerance=1.400', (3724, 4024, 54, 7783)],\n",
       "       ['tolerance=1.500', (1641, 6107, 2, 7835)],\n",
       "       ['tolerance=1.600', (172, 7576, 0, 7837)],\n",
       "       ['tolerance=1.700', (0, 7748, 0, 7837)],\n",
       "       ['tolerance=1.800', (0, 7748, 0, 7837)],\n",
       "       ['tolerance=1.900', (0, 7748, 0, 7837)],\n",
       "       ['tolerance=2.000', (0, 7748, 0, 7837)]], dtype=object)"
      ]
     },
     "execution_count": 535,
     "metadata": {},
     "output_type": "execute_result"
    }
   ],
   "source": [
    "np.array(total_results_new)[:,:2]"
   ]
  },
  {
   "cell_type": "code",
   "execution_count": 536,
   "id": "1f816c93",
   "metadata": {},
   "outputs": [
    {
     "data": {
      "text/plain": [
       "array([['tolerance coefficient', '(tn, fp, fn, tp)', 'precision',\n",
       "        'recall', 'roc_auc_score'],\n",
       "       ['tolerance=1.100', (7413, 335, 1972, 5865), 0.9459677419354838,\n",
       "        0.7483731019522777, 0.8525680687871867],\n",
       "       ['tolerance=1.200', (6724, 1024, 815, 7022), 0.8727317921948794,\n",
       "        0.8960061247926503, 0.881921492959051]], dtype=object)"
      ]
     },
     "execution_count": 536,
     "metadata": {},
     "output_type": "execute_result"
    }
   ],
   "source": [
    "np.array(total_results_new)[:3,:]"
   ]
  },
  {
   "cell_type": "markdown",
   "id": "4f4c39c7",
   "metadata": {},
   "source": [
    "***\n",
    "Теперь я попробовал значения `1 < tolerance < 2`. На матрицах ошибок видим, что при `tolerance >= 1.6` алгоритм начал на каждую пару лиц проставлять совпадение.  \n",
    "Это наш второй крайний случай, когда максимизируется recall (полнота).  \n",
    "***\n",
    "**При `tolerance = 1.2`** алгоритм предсказал примерно одинаковое кол-во совпадений/разностей.  \n",
    "**Метрики при этом составили:**\n",
    "- `precision = 0.88`\n",
    "- `recall = 0.88`\n",
    "- `roc_auc = 0.88`\n",
    "***\n",
    "Попробуем еще более детально прогнать все значения на промежутке `1.1 < tolerancce < 1.3`."
   ]
  },
  {
   "cell_type": "code",
   "execution_count": 537,
   "id": "962bc160",
   "metadata": {},
   "outputs": [
    {
     "name": "stdout",
     "output_type": "stream",
     "text": [
      "CPU times: user 2.41 s, sys: 85.4 ms, total: 2.49 s\n",
      "Wall time: 2.13 s\n"
     ]
    }
   ],
   "source": [
    "%%time\n",
    "df_t['tolerance_results_completely_new'] = \\\n",
    "pd.Series(map(lambda x, y: evaluate_tolerance(x, y, min=1.1, max=1.3), *[df_t['embedding_x'], df_t['embedding_y']]))"
   ]
  },
  {
   "cell_type": "code",
   "execution_count": 538,
   "id": "a917b45a",
   "metadata": {},
   "outputs": [],
   "source": [
    "arr = np.stack(df_t['tolerance_results_completely_new'].values)\n",
    "\n",
    "for i, tol in enumerate(np.round(np.linspace(1.1, 1.3, 10), 3)): \n",
    "    df_t[f'tolerance {tol:.3f}'] = arr[:,i]"
   ]
  },
  {
   "cell_type": "code",
   "execution_count": 542,
   "id": "8c00d92e",
   "metadata": {},
   "outputs": [
    {
     "data": {
      "text/html": [
       "<div>\n",
       "<style scoped>\n",
       "    .dataframe tbody tr th:only-of-type {\n",
       "        vertical-align: middle;\n",
       "    }\n",
       "\n",
       "    .dataframe tbody tr th {\n",
       "        vertical-align: top;\n",
       "    }\n",
       "\n",
       "    .dataframe thead th {\n",
       "        text-align: right;\n",
       "    }\n",
       "</style>\n",
       "<table border=\"1\" class=\"dataframe\">\n",
       "  <thead>\n",
       "    <tr style=\"text-align: right;\">\n",
       "      <th></th>\n",
       "      <th>equal</th>\n",
       "      <th>tolerance 1.122</th>\n",
       "      <th>tolerance 1.144</th>\n",
       "      <th>tolerance 1.167</th>\n",
       "      <th>tolerance 1.189</th>\n",
       "      <th>tolerance 1.211</th>\n",
       "      <th>tolerance 1.233</th>\n",
       "      <th>tolerance 1.256</th>\n",
       "      <th>tolerance 1.278</th>\n",
       "    </tr>\n",
       "  </thead>\n",
       "  <tbody>\n",
       "    <tr>\n",
       "      <th>0</th>\n",
       "      <td>1</td>\n",
       "      <td>1</td>\n",
       "      <td>1</td>\n",
       "      <td>1</td>\n",
       "      <td>1</td>\n",
       "      <td>1</td>\n",
       "      <td>1</td>\n",
       "      <td>1</td>\n",
       "      <td>1</td>\n",
       "    </tr>\n",
       "    <tr>\n",
       "      <th>1</th>\n",
       "      <td>0</td>\n",
       "      <td>0</td>\n",
       "      <td>0</td>\n",
       "      <td>0</td>\n",
       "      <td>0</td>\n",
       "      <td>0</td>\n",
       "      <td>0</td>\n",
       "      <td>0</td>\n",
       "      <td>0</td>\n",
       "    </tr>\n",
       "    <tr>\n",
       "      <th>2</th>\n",
       "      <td>0</td>\n",
       "      <td>0</td>\n",
       "      <td>0</td>\n",
       "      <td>0</td>\n",
       "      <td>0</td>\n",
       "      <td>0</td>\n",
       "      <td>0</td>\n",
       "      <td>0</td>\n",
       "      <td>0</td>\n",
       "    </tr>\n",
       "    <tr>\n",
       "      <th>3</th>\n",
       "      <td>1</td>\n",
       "      <td>1</td>\n",
       "      <td>1</td>\n",
       "      <td>1</td>\n",
       "      <td>1</td>\n",
       "      <td>1</td>\n",
       "      <td>1</td>\n",
       "      <td>1</td>\n",
       "      <td>1</td>\n",
       "    </tr>\n",
       "    <tr>\n",
       "      <th>4</th>\n",
       "      <td>1</td>\n",
       "      <td>1</td>\n",
       "      <td>1</td>\n",
       "      <td>1</td>\n",
       "      <td>1</td>\n",
       "      <td>1</td>\n",
       "      <td>1</td>\n",
       "      <td>1</td>\n",
       "      <td>1</td>\n",
       "    </tr>\n",
       "  </tbody>\n",
       "</table>\n",
       "</div>"
      ],
      "text/plain": [
       "   equal  tolerance 1.122  tolerance 1.144  tolerance 1.167  tolerance 1.189  \\\n",
       "0      1                1                1                1                1   \n",
       "1      0                0                0                0                0   \n",
       "2      0                0                0                0                0   \n",
       "3      1                1                1                1                1   \n",
       "4      1                1                1                1                1   \n",
       "\n",
       "   tolerance 1.211  tolerance 1.233  tolerance 1.256  tolerance 1.278  \n",
       "0                1                1                1                1  \n",
       "1                0                0                0                0  \n",
       "2                0                0                0                0  \n",
       "3                1                1                1                1  \n",
       "4                1                1                1                1  "
      ]
     },
     "execution_count": 542,
     "metadata": {},
     "output_type": "execute_result"
    }
   ],
   "source": [
    "df_t[['equal', 'tolerance 1.122',\n",
    "      'tolerance 1.144', 'tolerance 1.167', 'tolerance 1.189',\n",
    "      'tolerance 1.211', 'tolerance 1.233', 'tolerance 1.256',\n",
    "      'tolerance 1.278']].head()"
   ]
  },
  {
   "cell_type": "code",
   "execution_count": 543,
   "id": "27c64e48",
   "metadata": {},
   "outputs": [],
   "source": [
    "total_results_completely_new = evaluate_metrics(df_t, min=1.1, max=1.3)"
   ]
  },
  {
   "cell_type": "code",
   "execution_count": 553,
   "id": "9d75b412",
   "metadata": {},
   "outputs": [
    {
     "data": {
      "image/png": "[encoded data removed]",
      "text/plain": [
       "<Figure size 1152x1152 with 3 Axes>"
      ]
     },
     "metadata": {
      "needs_background": "light"
     },
     "output_type": "display_data"
    }
   ],
   "source": [
    "show_metrics_plot(total_results_completely_new, min=1.1, max=1.3)"
   ]
  },
  {
   "cell_type": "code",
   "execution_count": 547,
   "id": "5d400d5c",
   "metadata": {},
   "outputs": [
    {
     "data": {
      "text/plain": [
       "array([['tolerance coefficient', '(tn, fp, fn, tp)'],\n",
       "       ['tolerance=1.100', (7413, 335, 1972, 5865)],\n",
       "       ['tolerance=1.122', (7325, 423, 1687, 6150)],\n",
       "       ['tolerance=1.144', (7217, 531, 1448, 6389)],\n",
       "       ['tolerance=1.167', (7063, 685, 1201, 6636)],\n",
       "       ['tolerance=1.189', (6909, 839, 999, 6838)],\n",
       "       ['tolerance=1.211', (6724, 1024, 815, 7022)],\n",
       "       ['tolerance=1.233', (6507, 1241, 645, 7192)],\n",
       "       ['tolerance=1.256', (6310, 1438, 507, 7330)],\n",
       "       ['tolerance=1.278', (6045, 1703, 407, 7430)],\n",
       "       ['tolerance=1.300', (5779, 1969, 305, 7532)]], dtype=object)"
      ]
     },
     "execution_count": 547,
     "metadata": {},
     "output_type": "execute_result"
    }
   ],
   "source": [
    "np.array(total_results_completely_new)[:,:2]"
   ]
  },
  {
   "cell_type": "code",
   "execution_count": 551,
   "id": "9a1d4cd1",
   "metadata": {},
   "outputs": [
    {
     "data": {
      "text/plain": [
       "array([['precision', 'recall', 'roc_auc_score'],\n",
       "       [0.9459677419354838, 0.7483731019522777, 0.8525680687871867],\n",
       "       [0.9356458238247376, 0.7847390583131301, 0.8650721620940973],\n",
       "       [0.9232658959537572, 0.815235421717494, 0.8733508032696916],\n",
       "       [0.9064335473295998, 0.8467525838968993, 0.8791713358307418],\n",
       "       [0.8907125179106422, 0.8725277529666965, 0.8821208718369878],\n",
       "       [0.8727317921948794, 0.8960061247926503, 0.881921492959051],\n",
       "       [0.8528400332028934, 0.9176980987622815, 0.8787638661080379],\n",
       "       [0.8359945255474452, 0.9353068776317468, 0.8748552973600139],\n",
       "       [0.8135333406328699, 0.9480668623197652, 0.8641341023008222],\n",
       "       [0.7927586569834755, 0.961082046701544, 0.8534759743058572]],\n",
       "      dtype=object)"
      ]
     },
     "execution_count": 551,
     "metadata": {},
     "output_type": "execute_result"
    }
   ],
   "source": [
    "np.array(total_results_completely_new)[:,2:5]"
   ]
  },
  {
   "cell_type": "markdown",
   "id": "543406e4",
   "metadata": {},
   "source": [
    "***\n",
    "При более детальном рассмотрении видно, что по всей видимости, нет смысла перебирать значения `tolerance` настолько точно.  \n",
    "Вполне хватило точности до одной десятой.  \n",
    "***\n",
    "**Теперь проверяем качество подобранного параметра на тестовых данных.**  \n",
    "***"
   ]
  },
  {
   "cell_type": "code",
   "execution_count": 556,
   "id": "919901df",
   "metadata": {},
   "outputs": [
    {
     "data": {
      "text/html": [
       "<div>\n",
       "<style scoped>\n",
       "    .dataframe tbody tr th:only-of-type {\n",
       "        vertical-align: middle;\n",
       "    }\n",
       "\n",
       "    .dataframe tbody tr th {\n",
       "        vertical-align: top;\n",
       "    }\n",
       "\n",
       "    .dataframe thead th {\n",
       "        text-align: right;\n",
       "    }\n",
       "</style>\n",
       "<table border=\"1\" class=\"dataframe\">\n",
       "  <thead>\n",
       "    <tr style=\"text-align: right;\">\n",
       "      <th></th>\n",
       "      <th>embedding_x</th>\n",
       "      <th>embedding_y</th>\n",
       "      <th>equal</th>\n",
       "    </tr>\n",
       "  </thead>\n",
       "  <tbody>\n",
       "    <tr>\n",
       "      <th>0</th>\n",
       "      <td>0.297163,-0.19147852,0.514213,0.11966697,0.220...</td>\n",
       "      <td>0.33785084,-0.16910027,-0.1574438,-0.023615347...</td>\n",
       "      <td>0</td>\n",
       "    </tr>\n",
       "    <tr>\n",
       "      <th>1</th>\n",
       "      <td>0.28278404,-0.21183152,0.3420205,-0.23023371,0...</td>\n",
       "      <td>0.297163,-0.19147852,0.514213,0.11966697,0.220...</td>\n",
       "      <td>1</td>\n",
       "    </tr>\n",
       "    <tr>\n",
       "      <th>2</th>\n",
       "      <td>0.50050944,-0.07608504,0.1397811,0.17560016,0....</td>\n",
       "      <td>0.40801406,0.10747076,0.3100398,0.040430743,0....</td>\n",
       "      <td>1</td>\n",
       "    </tr>\n",
       "    <tr>\n",
       "      <th>3</th>\n",
       "      <td>0.18524958,-0.23291345,0.47159392,0.21318983,0...</td>\n",
       "      <td>-0.04595025,-0.4184819,-0.3319743,-0.18005435,...</td>\n",
       "      <td>1</td>\n",
       "    </tr>\n",
       "    <tr>\n",
       "      <th>4</th>\n",
       "      <td>0.3160543,-0.12296223,0.27941337,0.27271396,0....</td>\n",
       "      <td>0.40801406,0.10747076,0.3100398,0.040430743,0....</td>\n",
       "      <td>1</td>\n",
       "    </tr>\n",
       "  </tbody>\n",
       "</table>\n",
       "</div>"
      ],
      "text/plain": [
       "                                         embedding_x  \\\n",
       "0  0.297163,-0.19147852,0.514213,0.11966697,0.220...   \n",
       "1  0.28278404,-0.21183152,0.3420205,-0.23023371,0...   \n",
       "2  0.50050944,-0.07608504,0.1397811,0.17560016,0....   \n",
       "3  0.18524958,-0.23291345,0.47159392,0.21318983,0...   \n",
       "4  0.3160543,-0.12296223,0.27941337,0.27271396,0....   \n",
       "\n",
       "                                         embedding_y  equal  \n",
       "0  0.33785084,-0.16910027,-0.1574438,-0.023615347...      0  \n",
       "1  0.297163,-0.19147852,0.514213,0.11966697,0.220...      1  \n",
       "2  0.40801406,0.10747076,0.3100398,0.040430743,0....      1  \n",
       "3  -0.04595025,-0.4184819,-0.3319743,-0.18005435,...      1  \n",
       "4  0.40801406,0.10747076,0.3100398,0.040430743,0....      1  "
      ]
     },
     "execution_count": 556,
     "metadata": {},
     "output_type": "execute_result"
    }
   ],
   "source": [
    "df_test = pd.read_csv('./test.tsv', sep='\\t')\n",
    "df_test.head()"
   ]
  },
  {
   "cell_type": "code",
   "execution_count": 557,
   "id": "da102ccd",
   "metadata": {},
   "outputs": [
    {
     "data": {
      "text/plain": [
       "0    976\n",
       "1    973\n",
       "Name: equal, dtype: int64"
      ]
     },
     "execution_count": 557,
     "metadata": {},
     "output_type": "execute_result"
    }
   ],
   "source": [
    "df_test['equal'].value_counts()"
   ]
  },
  {
   "cell_type": "code",
   "execution_count": null,
   "id": "99013d26",
   "metadata": {},
   "outputs": [],
   "source": [
    "df_test['embedding_x'] = pd.Series(map(transform_into_embedding, df_test['embedding_x']))\n",
    "df_test['embedding_y'] = pd.Series(map(transform_into_embedding, df_test['embedding_y']))"
   ]
  },
  {
   "cell_type": "code",
   "execution_count": 563,
   "id": "ad209cad",
   "metadata": {},
   "outputs": [
    {
     "name": "stdout",
     "output_type": "stream",
     "text": [
      "CPU times: user 42.5 ms, sys: 0 ns, total: 42.5 ms\n",
      "Wall time: 40.3 ms\n"
     ]
    }
   ],
   "source": [
    "%%time\n",
    "df_test['predictions'] = \\\n",
    "pd.Series(map(lambda x, y: int(face_recognition.compare_faces(x, y, tolerance=1.2)[0]), *[df_test['embedding_x'], df_test['embedding_y']]))"
   ]
  },
  {
   "cell_type": "code",
   "execution_count": 564,
   "id": "11a4f4eb",
   "metadata": {},
   "outputs": [
    {
     "data": {
      "text/html": [
       "<div>\n",
       "<style scoped>\n",
       "    .dataframe tbody tr th:only-of-type {\n",
       "        vertical-align: middle;\n",
       "    }\n",
       "\n",
       "    .dataframe tbody tr th {\n",
       "        vertical-align: top;\n",
       "    }\n",
       "\n",
       "    .dataframe thead th {\n",
       "        text-align: right;\n",
       "    }\n",
       "</style>\n",
       "<table border=\"1\" class=\"dataframe\">\n",
       "  <thead>\n",
       "    <tr style=\"text-align: right;\">\n",
       "      <th></th>\n",
       "      <th>embedding_x</th>\n",
       "      <th>embedding_y</th>\n",
       "      <th>equal</th>\n",
       "      <th>predictions</th>\n",
       "    </tr>\n",
       "  </thead>\n",
       "  <tbody>\n",
       "    <tr>\n",
       "      <th>0</th>\n",
       "      <td>[[0.297163, -0.19147852, 0.514213, 0.11966697,...</td>\n",
       "      <td>[[0.33785084, -0.16910027, -0.1574438, -0.0236...</td>\n",
       "      <td>0</td>\n",
       "      <td>0</td>\n",
       "    </tr>\n",
       "    <tr>\n",
       "      <th>1</th>\n",
       "      <td>[[0.28278404, -0.21183152, 0.3420205, -0.23023...</td>\n",
       "      <td>[[0.297163, -0.19147852, 0.514213, 0.11966697,...</td>\n",
       "      <td>1</td>\n",
       "      <td>1</td>\n",
       "    </tr>\n",
       "    <tr>\n",
       "      <th>2</th>\n",
       "      <td>[[0.50050944, -0.07608504, 0.1397811, 0.175600...</td>\n",
       "      <td>[[0.40801406, 0.10747076, 0.3100398, 0.0404307...</td>\n",
       "      <td>1</td>\n",
       "      <td>1</td>\n",
       "    </tr>\n",
       "    <tr>\n",
       "      <th>3</th>\n",
       "      <td>[[0.18524958, -0.23291345, 0.47159392, 0.21318...</td>\n",
       "      <td>[[-0.04595025, -0.4184819, -0.3319743, -0.1800...</td>\n",
       "      <td>1</td>\n",
       "      <td>0</td>\n",
       "    </tr>\n",
       "    <tr>\n",
       "      <th>4</th>\n",
       "      <td>[[0.3160543, -0.12296223, 0.27941337, 0.272713...</td>\n",
       "      <td>[[0.40801406, 0.10747076, 0.3100398, 0.0404307...</td>\n",
       "      <td>1</td>\n",
       "      <td>1</td>\n",
       "    </tr>\n",
       "  </tbody>\n",
       "</table>\n",
       "</div>"
      ],
      "text/plain": [
       "                                         embedding_x  \\\n",
       "0  [[0.297163, -0.19147852, 0.514213, 0.11966697,...   \n",
       "1  [[0.28278404, -0.21183152, 0.3420205, -0.23023...   \n",
       "2  [[0.50050944, -0.07608504, 0.1397811, 0.175600...   \n",
       "3  [[0.18524958, -0.23291345, 0.47159392, 0.21318...   \n",
       "4  [[0.3160543, -0.12296223, 0.27941337, 0.272713...   \n",
       "\n",
       "                                         embedding_y  equal  predictions  \n",
       "0  [[0.33785084, -0.16910027, -0.1574438, -0.0236...      0            0  \n",
       "1  [[0.297163, -0.19147852, 0.514213, 0.11966697,...      1            1  \n",
       "2  [[0.40801406, 0.10747076, 0.3100398, 0.0404307...      1            1  \n",
       "3  [[-0.04595025, -0.4184819, -0.3319743, -0.1800...      1            0  \n",
       "4  [[0.40801406, 0.10747076, 0.3100398, 0.0404307...      1            1  "
      ]
     },
     "execution_count": 564,
     "metadata": {},
     "output_type": "execute_result"
    }
   ],
   "source": [
    "df_test.head()"
   ]
  },
  {
   "cell_type": "code",
   "execution_count": 566,
   "id": "527313dc",
   "metadata": {},
   "outputs": [],
   "source": [
    "total_evaluation = [['tolerance coefficient', '(tn, fp, fn, tp)', 'precision', 'recall', 'roc_auc_score']]\n",
    "evaluation = ['tolerance 1.2',]\n",
    "\n",
    "tn, fp, fn, tp = confusion_matrix(df_test['equal'], df_test['predictions']).ravel()\n",
    "evaluation.append((tn, fp, fn, tp))\n",
    "evaluation.append(tp / (tp + fp)) # precision\n",
    "evaluation.append(tp / (tp + fn)) # recall\n",
    "evaluation.append(roc_auc_score(df_test['equal'], df_test['predictions'])) #roc_auc\n",
    "\n",
    "total_evaluation.append(evaluation)"
   ]
  },
  {
   "cell_type": "code",
   "execution_count": 567,
   "id": "70e35b91",
   "metadata": {},
   "outputs": [
    {
     "data": {
      "text/plain": [
       "array([['tolerance coefficient', '(tn, fp, fn, tp)'],\n",
       "       ['tolerance 1.2', (873, 103, 107, 866)]], dtype=object)"
      ]
     },
     "execution_count": 567,
     "metadata": {},
     "output_type": "execute_result"
    }
   ],
   "source": [
    "np.array(total_evaluation)[:,:2]"
   ]
  },
  {
   "cell_type": "code",
   "execution_count": 569,
   "id": "93ca0b72",
   "metadata": {},
   "outputs": [
    {
     "data": {
      "text/plain": [
       "array([['precision', 'recall', 'roc_auc_score'],\n",
       "       [0.8937048503611971, 0.8900308324768756, 0.892249022795815]],\n",
       "      dtype=object)"
      ]
     },
     "execution_count": 569,
     "metadata": {},
     "output_type": "execute_result"
    }
   ],
   "source": [
    "np.array(total_evaluation)[:,2:5]"
   ]
  },
  {
   "cell_type": "markdown",
   "id": "bcd1813e",
   "metadata": {},
   "source": [
    "## Выводы:\n",
    "По тренировочным данным, получилось достигнуть баланса в `precision/recall` при значении `tolerance = 1.2`.  \n",
    "При этом значении, алгоритм правильно определяет 7022 сходств в лицах, 6724 разностей и ошибается в сумме 1839 раз.  \n",
    "  \n",
    "**Аккуратность/точность алгоритма состовляет:**  \n",
    "100 - ((1839 / (7837 + 7748)) * 100) = 88.2%  \n",
    "  \n",
    "При этом кол-во ошибок первого и второго рода примерно одинаковое. Если у нас будет задача или информация о том, какую ошибку нужно минимизировать - уже будет просто разобраться, уменьшаем мы `tolerance` или увеличиваем.  \n",
    "  \n",
    "На тестовых данных `tolerance = 1.2` показал результаты даже чуть лучше, что не удивительно, так как данные ничем не отличаются от тренировочных.  \n",
    "  \n",
    "Тем более, алгоритм, который используется для сравнения лиц - не нуждается в обучении, он всего навсего считает дистанцию между ввекторами, а наш параметр `tolerance` указывает ему, при какой максимальной дистанции, алгоритм скажет нам, что лица совпадают.  \n",
    "  \n",
    "Поэтому разбиение на `train/test` тут не повлияло бы ни на что."
   ]
  }
 ],
 "metadata": {
  "kernelspec": {
   "display_name": "Python 3 (ipykernel)",
   "language": "python",
   "name": "python3"
  },
  "language_info": {
   "codemirror_mode": {
    "name": "ipython",
    "version": 3
   },
   "file_extension": ".py",
   "mimetype": "text/x-python",
   "name": "python",
   "nbconvert_exporter": "python",
   "pygments_lexer": "ipython3",
   "version": "3.8.10"
  }
 },
 "nbformat": 4,
 "nbformat_minor": 5
}
